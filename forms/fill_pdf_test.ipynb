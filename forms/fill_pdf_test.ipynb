{
 "cells": [
  {
   "cell_type": "code",
   "execution_count": 1,
   "id": "2acea596-527f-4a1a-bdd0-bf6e2c62a977",
   "metadata": {},
   "outputs": [],
   "source": [
    "import os\n",
    "import re\n",
    "\n",
    "#import fitz  # requires fitz, PyMuPDF\n",
    "import pdfrw\n",
    "import subprocess\n",
    "import os.path\n",
    "import sys"
   ]
  },
  {
   "cell_type": "code",
   "execution_count": 19,
   "id": "983361da-8088-47c0-8076-8def67950af5",
   "metadata": {},
   "outputs": [],
   "source": [
    "#https://westhealth.github.io/exploring-fillable-forms-with-pdfrw.html"
   ]
  },
  {
   "cell_type": "code",
   "execution_count": 4,
   "id": "60b0b026-7c79-4fa9-831d-8f4e3ed8e3da",
   "metadata": {},
   "outputs": [],
   "source": [
    "#template_out = pdfrw.PdfReader('./daca/pdf_temp/test_marked.pdf')"
   ]
  },
  {
   "cell_type": "code",
   "execution_count": 14,
   "id": "0102a801-0f84-4f27-96e5-869f469b0e9b",
   "metadata": {},
   "outputs": [],
   "source": [
    "#template.keys()"
   ]
  },
  {
   "cell_type": "code",
   "execution_count": 15,
   "id": "f7874526-b8f9-45ad-b307-3936fb6b7fed",
   "metadata": {},
   "outputs": [],
   "source": [
    "#len(template.pages)\n",
    "# there are 7 pages"
   ]
  },
  {
   "cell_type": "markdown",
   "id": "95c36376-6971-4262-be79-c3d0191653e8",
   "metadata": {},
   "source": [
    "## 1. Test with the first page"
   ]
  },
  {
   "cell_type": "markdown",
   "id": "69611243-9340-4940-9647-c62cf7f21a01",
   "metadata": {},
   "source": [
    "## Print out all the columns and description"
   ]
  },
  {
   "cell_type": "code",
   "execution_count": 2,
   "id": "cfea00b7-89dd-443a-aaf5-8e3f2b282cf1",
   "metadata": {},
   "outputs": [],
   "source": [
    "ANNOT_KEY = '/Annots'           # key for all annotations within a page\n",
    "ANNOT_FIELD_KEY = '/T'          # Name of field. i.e. given ID of field\n",
    "ANNOT_FORM_type = '/FT'         # Form type (e.g. text/button)\n",
    "ANNOT_FORM_button = '/Btn'      # ID for buttons, i.e. a checkbox\n",
    "ANNOT_FORM_text = '/Tx'         # ID for textbox\n",
    "SUBTYPE_KEY = '/Subtype'\n",
    "WIDGET_SUBTYPE_KEY = '/Widget'\n",
    "PARENT_KEY = '/Parent'"
   ]
  },
  {
   "cell_type": "code",
   "execution_count": 3,
   "id": "1b9dc6dc-b97f-4a25-a963-d73df277e6f8",
   "metadata": {},
   "outputs": [],
   "source": [
    "data_dict = {\n",
    "    \"form1[0].#subform[0].G28_Attached[0]\": True,\n",
    "    \"form1[0].#subform[0].#area[0].AttyLicenseNum[0]\": \"test number\",\n",
    "    \"form1[0].#subform[0].P1_Line1_2a_Checkbox[0]\": True,\n",
    "    \"form1[0].#subform[0].P1_Line1_2a_Checkbox[1]\": True,\n",
    "    \"form1[0].#subform[0].P1_Line4c_Unit[0]\": True,\n",
    "    \"form1[0].#subform[0].P1_Line4c_Unit[1]\": True,\n",
    "    \"form1[0].#subform[0].P1_Line4c_Unit[2]\": True\n",
    "}"
   ]
  },
  {
   "cell_type": "code",
   "execution_count": 4,
   "id": "6e5d639c-c4c4-4bbb-9c30-464caa765842",
   "metadata": {},
   "outputs": [],
   "source": [
    "barcode_list = ['form1[0].#subform[0].PDF417BarCode1[0]',\n",
    "                'form1[0].#subform[1].PDF417BarCode1[1]',\n",
    "                'form1[0].#subform[2].PDF417BarCode1[2]',\n",
    "                'form1[0].#subform[3].PDF417BarCode1[3]',\n",
    "                'form1[0].#subform[4].PDF417BarCode1[4]',\n",
    "                'form1[0].#subform[5].PDF417BarCode1[5]',\n",
    "                'form1[0].#subform[6].PDF417BarCode1[6]']"
   ]
  },
  {
   "cell_type": "code",
   "execution_count": 5,
   "id": "047c74ae-5dae-4401-a341-2b173942b3c4",
   "metadata": {},
   "outputs": [],
   "source": [
    "template_pdf = pdfrw.PdfReader('./daca/i-821d_test-unlocked.pdf')"
   ]
  },
  {
   "cell_type": "code",
   "execution_count": 6,
   "id": "1e5eb2be-4ea5-43f9-b194-eb2ffdfc4ac8",
   "metadata": {},
   "outputs": [],
   "source": [
    "def text_form(annotation, value):\n",
    "    annotation.update(pdfrw.PdfDict(V='{}'.format(value)))\n",
    "    annotation.update(pdfrw.PdfDict(AP=''))\n",
    "    #pdfstr = pdfrw.objects.pdfstring.PdfString.encode(value)\n",
    "    #annotation.update(pdfrw.PdfDict(V=pdfstr, AS=pdfstr))"
   ]
  },
  {
   "cell_type": "code",
   "execution_count": 14,
   "id": "6d60cc6d-0266-482f-844a-f57378b9d32a",
   "metadata": {},
   "outputs": [],
   "source": [
    "def checkbox(annotation, key_value, export=None):\n",
    "    if export:\n",
    "        export = '/' + export\n",
    "    else:\n",
    "        # determine the value to trigger the checkbox\n",
    "        keys = annotation['/AP']['/N'].keys()\n",
    "        if '/Off' in keys:\n",
    "            keys.remove('/Off')\n",
    "        export = keys[0]\n",
    "    if key_value:\n",
    "        annotation.update(pdfrw.PdfDict(V=export, AS=export))\n",
    "    else:\n",
    "        del annotation['/V']\n",
    "        del annotation['/AS']"
   ]
  },
  {
   "cell_type": "code",
   "execution_count": 26,
   "id": "73e69f15-e054-4abd-98f9-b731e60924bf",
   "metadata": {},
   "outputs": [],
   "source": [
    "def combobox(annotation, value):\n",
    "    export = None\n",
    "    for each in annotation['/Opt']:\n",
    "        if each[1].to_unicode() == value:\n",
    "            export = each[0].to_unicode()\n",
    "    if export is None: \n",
    "        raise KeyError(f\"Export Value: {value} Not Found\")\n",
    "        \n",
    "    pdfstr = pdfrw.objects.pdfstring.PdfString.encode(export)\n",
    "    annotation.update(pdfrw.PdfDict(V=pdfstr, AS=pdfstr))\n",
    "        "
   ]
  },
  {
   "cell_type": "code",
   "execution_count": 15,
   "id": "8d3a8631-5320-45cb-be6a-d4e1087f49f8",
   "metadata": {},
   "outputs": [],
   "source": [
    "page1 = template_pdf.pages[0]\n",
    "annotations = page1['/Annots']"
   ]
  },
  {
   "cell_type": "code",
   "execution_count": 16,
   "id": "cf90abab-a545-4bb5-b251-f81e17484ca1",
   "metadata": {},
   "outputs": [],
   "source": [
    "annotation = annotations[24]"
   ]
  },
  {
   "cell_type": "code",
   "execution_count": 22,
   "id": "63f465b1-8149-43f8-bd3d-b3caa11072cc",
   "metadata": {},
   "outputs": [
    {
     "name": "stdout",
     "output_type": "stream",
     "text": [
      "CA\n"
     ]
    }
   ],
   "source": [
    "export = None\n",
    "for each in annotation['/Opt']:\n",
    "    if each[1].to_unicode() == 'CA':\n",
    "        export = each[0].to_unicode()\n",
    "        print(export)\n",
    "if export is None:\n",
    "    raise KeyError(f\"Export Value: CA Not Found\")"
   ]
  },
  {
   "cell_type": "code",
   "execution_count": 29,
   "id": "3245b444-2305-4f3e-8003-7c8b6816030f",
   "metadata": {},
   "outputs": [],
   "source": [
    "page1 = template_pdf.pages[0]\n",
    "annotations = page1['/Annots']\n",
    "\n",
    "form_type = []\n",
    "for page in template_pdf.pages:\n",
    "    annotations = page['/Annots']\n",
    "    for annotation in annotations: \n",
    "        ft = annotation['/FT']\n",
    "        ff = annotation['/Ff']\n",
    "        #print(annotation['/T'])\n",
    "    \n",
    "        if ft == '/Tx':\n",
    "            form_type.append(\"text\")\n",
    "        if ft == '/Ch':\n",
    "            if ff and int(ff) & 1 << 17:\n",
    "                form_type.append(\"combo\")\n",
    "            else: \n",
    "                form_type.append(\"list\")\n",
    "        if ft == '/Btn':\n",
    "            if ff and int(ff) & 1 << 15:\n",
    "                form_type.append(\"radio\")\n",
    "            else:\n",
    "                form_type.append(\"checkbox\")\n",
    "                "
   ]
  },
  {
   "cell_type": "code",
   "execution_count": 32,
   "id": "ff66a2fe-43eb-4cd8-b05d-707da3a5d31f",
   "metadata": {},
   "outputs": [
    {
     "data": {
      "text/plain": [
       "{'checkbox', 'combo', 'text'}"
      ]
     },
     "execution_count": 32,
     "metadata": {},
     "output_type": "execute_result"
    }
   ],
   "source": [
    "set(form_type)"
   ]
  },
  {
   "cell_type": "code",
   "execution_count": 77,
   "id": "7745db10-fcea-415d-9a67-bd5fa8da94cc",
   "metadata": {},
   "outputs": [
    {
     "name": "stderr",
     "output_type": "stream",
     "text": [
      "[WARNING] tokens.py:221 Did not find PDF object (0, 0) (line=2530, col=1, token='endobj')\n"
     ]
    },
    {
     "name": "stdout",
     "output_type": "stream",
     "text": [
      "Key:  form1[0].#subform[0].G28_Attached[0]\n",
      "data_dict_value:  True\n",
      "['/Y', '/Off']\n",
      "Key:  form1[0].#subform[0].#area[0].AttyLicenseNum[0]\n",
      "data_dict_value:  test number\n",
      "Key:  form1[0].#subform[0].P1_Line1_2a_Checkbox[0]\n",
      "data_dict_value:  True\n",
      "['/Off', '/I']\n",
      "Key:  form1[0].#subform[0].P1_Line1_2a_Checkbox[1]\n",
      "data_dict_value:  True\n",
      "['/R']\n",
      "Key:  form1[0].#subform[0].P1_Line4c_Unit[0]\n",
      "data_dict_value:  True\n",
      "['/Off', '/ FLR ']\n",
      "Key:  form1[0].#subform[0].P1_Line4c_Unit[1]\n",
      "data_dict_value:  True\n",
      "['/ STE ', '/Off']\n",
      "Key:  form1[0].#subform[0].P1_Line4c_Unit[2]\n",
      "data_dict_value:  True\n",
      "['/ APT ', '/Off']\n"
     ]
    }
   ],
   "source": [
    "for page in template_pdf.pages:\n",
    "    annotations = page[ANNOT_KEY]\n",
    "    if annotations is None:\n",
    "        continue\n",
    "\n",
    "    for annotation in annotations:\n",
    "        if annotation[SUBTYPE_KEY]==WIDGET_SUBTYPE_KEY:\n",
    "            if not annotation[ANNOT_FIELD_KEY]:\n",
    "                annotation=annotation[PARENT_KEY]\n",
    "            if annotation[ANNOT_FIELD_KEY]:\n",
    "                key = annotation[ANNOT_FIELD_KEY].to_unicode()\n",
    "                if key in barcode_list:\n",
    "                    continue \n",
    "                    \n",
    "                if key in data_dict.keys():\n",
    "                    print(\"Key: \", key)\n",
    "                    print(\"data_dict_value: \", data_dict[key])\n",
    "                    if annotation[ANNOT_FORM_type] == ANNOT_FORM_button: # fill checkbox\n",
    "                        print(annotation['/AP']['/N'].keys())\n",
    "                        checkbox(annotation, data_dict[key], export=None)\n",
    "                    \n",
    "                    if annotation[ANNOT_FORM_type] == ANNOT_FORM_text: # fill text\n",
    "                        text_form(annotation, data_dict[key])"
   ]
  },
  {
   "cell_type": "code",
   "execution_count": 78,
   "id": "302628ca-ffb8-4d35-993c-959b620871c8",
   "metadata": {},
   "outputs": [],
   "source": [
    "template_pdf.Root.AcroForm.update(pdfrw.PdfDict(NeedAppearances=pdfrw.PdfObject('true')))\n",
    "pdfrw.PdfWriter().write('./daca/pdf_temp/test_marked.pdf', template_pdf)"
   ]
  },
  {
   "cell_type": "code",
   "execution_count": null,
   "id": "6552667e-e150-41b6-8b70-9d382c15161f",
   "metadata": {},
   "outputs": [],
   "source": []
  },
  {
   "cell_type": "code",
   "execution_count": null,
   "id": "fc7b8eb3-5f4e-4cf2-aa3b-aaf985172478",
   "metadata": {},
   "outputs": [],
   "source": []
  },
  {
   "cell_type": "code",
   "execution_count": null,
   "id": "b7e947e4-7e68-4be4-b9d4-efb7ad3ab7c3",
   "metadata": {},
   "outputs": [],
   "source": []
  },
  {
   "cell_type": "code",
   "execution_count": null,
   "id": "aa0611ae-fd1f-4cae-b392-a571f01fcebd",
   "metadata": {},
   "outputs": [],
   "source": []
  },
  {
   "cell_type": "code",
   "execution_count": 46,
   "id": "d836915b-af6e-4d24-a6c3-4f38c23f5b81",
   "metadata": {},
   "outputs": [],
   "source": [
    "data_dict = {\n",
    "    #\"form1[0].#subform[0].G28_Attached[0]\": \"\",\n",
    "    #\"form1[0].#subform[0].#area[0].AttyLicenseNum[0]\": \"\",\n",
    "    \"form1[0].#subform[0].P1_Line3a_Name[0]\": \"Fang\",\n",
    "    \"form1[0].#subform[0].P1_Line3b_Name[0]\": \"Jiaqi\",\n",
    "    #\"form1[0].#subform[0].P1_Line3c_Name[0]\": \"\",\n",
    "    \"form1[0].#subform[0].P1_Line2b_Date[0]\": \"01/31/2022\",\n",
    "    \"form1[0].#subform[0].P1_Line1_2a_Checkbox[0]\": False, \n",
    "    \"form1[0].#subform[0].P1_Line1_2a_Checkbox[1]\": True,\n",
    "    #\"form1[0].#subform[0].P1_Line4a_Name[0]\": \"\",\n",
    "    \"form1[0].#subform[0].P1_Line4b_Street[0]\": \"39967 Waxwing Drive\",\n",
    "    #\"form1[0].#subform[0].P1_Line4c_Number[0]\": \"\",\n",
    "    #\"form1[0].#subform[0].P1_Line4c_Unit[0]\":\"\",\n",
    "    #\"form1[0].#subform[0].P1_Line4c_Unit[1]\": \"\",\n",
    "    #\"form1[0].#subform[0].P1_Line4c_Unit[2]\": \"\",\n",
    "    \"form1[0].#subform[0].P1_Line5_Checkbox[0]\": False,\n",
    "    \"form1[0].#subform[0].P1_Line5_Checkbox[1]\": True,\n",
    "    \"form1[0].#subform[0].P1_Line5a_Checkbox[0]\": False, \n",
    "    \"form1[0].#subform[0].P1_Line5b_Checkbox[0]\": False,\n",
    "    \"form1[0].#subform[0].P1_Line5c_Checkbox[0]\": False, \n",
    "    \"form1[0].#subform[0].P1_Line5d_Checkbox[0]\": False,\n",
    "    #\"form1[0].#subform[0].P1_Line5g_Location[0]\": \"\",\n",
    "    #\"form1[0].#subform[0].P1_Line5f_Date[0]\": \"\",\n",
    "    \"form1[0].#subform[0].P1_Line5e_Checkbox[0]\": False,\n",
    "    \"form1[0].#subform[0].P1_Line4f_ZipCode[0]\": '94560',\n",
    "    \"form1[0].#subform[0].P1_Line4e_State[0]\": 'CA',\n",
    "    \"form1[0].#subform[0].P1_Line4d_City[0]\": 'Newark'\n",
    "    #\"form1[0].#subform[0].PDF417BarCode1[0]\":\"\"\n",
    "}"
   ]
  },
  {
   "cell_type": "code",
   "execution_count": null,
   "id": "1a4697cf-a61c-4ce4-ac32-0248b43c8a90",
   "metadata": {},
   "outputs": [],
   "source": []
  },
  {
   "cell_type": "code",
   "execution_count": 26,
   "id": "82cd2e1d-f6ac-44aa-9b48-13129f81186f",
   "metadata": {},
   "outputs": [
    {
     "data": {
      "text/plain": [
       "{'/Border': ['0', '0', '0'],\n",
       " '/Rect': ['253.736', '570.973', '263.736', '580.973'],\n",
       " '/T': '(form1[0].#subform[0].G28_Attached[0])',\n",
       " '/F': '4',\n",
       " '/BS': {'/W': '0'},\n",
       " '/Subtype': '/Widget',\n",
       " '/DA': '(/ZapfDingbatsITC 8 Tf 0 g)',\n",
       " '/MK': {'/CA': '(8)'},\n",
       " '/TU': '(To Be Completed by an Attorney or Accredited Representative, if any. Select this box if Form G-28 is attached to represent the requestor.)',\n",
       " '/AP': {'/N': {'/Y': {'/Filter': '/FlateDecode',\n",
       "    '/Type': '/XObject',\n",
       "    '/Subtype': '/Form',\n",
       "    '/FormType': '1',\n",
       "    '/BBox': ['0', '0', '10', '10'],\n",
       "    '/Resources': {'/ProcSet': ['/PDF']},\n",
       "    '/Length': '63'},\n",
       "   '/Off': {'/Filter': '/FlateDecode',\n",
       "    '/Type': '/XObject',\n",
       "    '/Subtype': '/Form',\n",
       "    '/FormType': '1',\n",
       "    '/BBox': ['0', '0', '0', '0'],\n",
       "    '/Resources': {'/ProcSet': ['/PDF']},\n",
       "    '/Length': '11'}},\n",
       "  '/D': {'/Y': {'/Filter': '/FlateDecode',\n",
       "    '/Type': '/XObject',\n",
       "    '/Subtype': '/Form',\n",
       "    '/FormType': '1',\n",
       "    '/BBox': ['0', '0', '10', '10'],\n",
       "    '/Resources': {'/ProcSet': ['/PDF'],\n",
       "     '/ColorSpace': {'/Cs4': ['/ICCBased',\n",
       "       {'/N': '1',\n",
       "        '/Alternate': '/DeviceGray',\n",
       "        '/Length': '3385',\n",
       "        '/Filter': '/FlateDecode'}]}},\n",
       "    '/Length': '95'},\n",
       "   '/Off': {'/Filter': '/FlateDecode',\n",
       "    '/Type': '/XObject',\n",
       "    '/Subtype': '/Form',\n",
       "    '/FormType': '1',\n",
       "    '/BBox': ['0', '0', '10', '10'],\n",
       "    '/Resources': {'/ProcSet': ['/PDF'],\n",
       "     '/ColorSpace': {'/Cs4': ['/ICCBased',\n",
       "       {'/N': '1',\n",
       "        '/Alternate': '/DeviceGray',\n",
       "        '/Length': '3385',\n",
       "        '/Filter': '/FlateDecode'}]}},\n",
       "    '/Length': '50'}}},\n",
       " '/H': '/P',\n",
       " '/V': '/Off',\n",
       " '/StructParent': '1',\n",
       " '/AS': '/Off',\n",
       " '/FT': '/Btn',\n",
       " '/Type': '/Annot',\n",
       " '/Ff': '0'}"
      ]
     },
     "execution_count": 26,
     "metadata": {},
     "output_type": "execute_result"
    }
   ],
   "source": [
    "annotations[0]"
   ]
  },
  {
   "cell_type": "code",
   "execution_count": null,
   "id": "3ffad4e2-af2f-4e3e-983c-d6802cee9fe3",
   "metadata": {},
   "outputs": [],
   "source": []
  },
  {
   "cell_type": "code",
   "execution_count": null,
   "id": "698a1b9e-a38f-4c67-adb7-184592870ddd",
   "metadata": {},
   "outputs": [],
   "source": []
  },
  {
   "cell_type": "code",
   "execution_count": null,
   "id": "7d2e2604-2de8-48be-975f-ec280215662c",
   "metadata": {},
   "outputs": [],
   "source": []
  },
  {
   "cell_type": "code",
   "execution_count": null,
   "id": "5af46387-5d31-4d85-a725-09b0d763585c",
   "metadata": {},
   "outputs": [],
   "source": []
  }
 ],
 "metadata": {
  "kernelspec": {
   "display_name": "t5",
   "language": "python",
   "name": "t5"
  },
  "language_info": {
   "codemirror_mode": {
    "name": "ipython",
    "version": 3
   },
   "file_extension": ".py",
   "mimetype": "text/x-python",
   "name": "python",
   "nbconvert_exporter": "python",
   "pygments_lexer": "ipython3",
   "version": "3.9.6"
  }
 },
 "nbformat": 4,
 "nbformat_minor": 5
}
