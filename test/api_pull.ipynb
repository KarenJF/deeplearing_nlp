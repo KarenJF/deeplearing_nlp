{
 "cells": [
  {
   "cell_type": "code",
   "execution_count": 9,
   "metadata": {},
   "outputs": [],
   "source": [
    "import requests\n",
    "import pandas as pd\n",
    "import numpy as np\n",
    "from pandas import json_normalize\n",
    "import json\n"
   ]
  },
  {
   "cell_type": "code",
   "execution_count": 10,
   "metadata": {},
   "outputs": [],
   "source": [
    "pd.options.display.max_columns=200\n",
    "pd.options.display.max_rows=100"
   ]
  },
  {
   "cell_type": "code",
   "execution_count": 11,
   "metadata": {},
   "outputs": [
    {
     "data": {
      "text/plain": [
       "\"\\nresponse = requests.get(\\n    'https://api.case.law/v1/cases/435800/?full_case=true',\\n    headers={'Authorization': token_id}\\n)\\n\""
      ]
     },
     "execution_count": 11,
     "metadata": {},
     "output_type": "execute_result"
    }
   ],
   "source": [
    "token_id = 'Token f643c4cfb329a249febbecca90efa2736acf39ce'\n",
    "'''\n",
    "response = requests.get(\n",
    "    'https://api.case.law/v1/cases/435800/?full_case=true',\n",
    "    headers={'Authorization': token_id}\n",
    ")\n",
    "'''"
   ]
  },
  {
   "cell_type": "code",
   "execution_count": 12,
   "metadata": {},
   "outputs": [],
   "source": [
    "def search_query(page_size='10000',\n",
    "                 search='car+accident',\n",
    "                 full_case='true',\n",
    "                 jurisdiction = 'cal',\n",
    "                 decision_date_min='1950-01-01',\n",
    "                 decision_date_max='2020-12-31'\n",
    "                 ):\n",
    "    url = 'https://api.case.law/v1/cases/?page_size='+page_size+\\\n",
    "    '&search='+search+'&full_case='+full_case+'&jurisdiction='+jurisdiction+\\\n",
    "    '&decision_date_min='+decision_date_min +\\\n",
    "    '&decision_date_max='+decision_date_max +\\\n",
    "    '&body_format=text&ordering=relevance'\n",
    "    return url\n",
    "    "
   ]
  },
  {
   "cell_type": "code",
   "execution_count": 14,
   "metadata": {},
   "outputs": [],
   "source": [
    "def pull_data(token_id,\n",
    "              page_size='10000',\n",
    "              search='car+accident',\n",
    "              full_case='true',\n",
    "              jurisdiction = 'cal',\n",
    "              decision_date_min='1950-01-01',\n",
    "              decision_date_max='2020-12-31'):\n",
    "    # get url\n",
    "    url = search_query(page_size,\n",
    "                 search,\n",
    "                 full_case,\n",
    "                 jurisdiction,\n",
    "                 decision_date_min,\n",
    "                 decision_date_max)\n",
    "    \n",
    "    response = requests.get(url,headers={'Authorization': token_id})\n",
    "    \n",
    "    return response"
   ]
  },
  {
   "cell_type": "markdown",
   "metadata": {},
   "source": [
    "## 1. Load cases and save it"
   ]
  },
  {
   "cell_type": "code",
   "execution_count": null,
   "metadata": {},
   "outputs": [],
   "source": [
    "# pull data\n",
    "response = pull_data(token_id)"
   ]
  },
  {
   "cell_type": "code",
   "execution_count": null,
   "metadata": {},
   "outputs": [],
   "source": [
    "# write to json and save in drive\n",
    "with open('car_accident.json', 'wb') as outf:\n",
    "    outf.write(response.content)"
   ]
  },
  {
   "cell_type": "markdown",
   "metadata": {},
   "source": [
    "## 2. Open the cases"
   ]
  },
  {
   "cell_type": "code",
   "execution_count": 20,
   "metadata": {},
   "outputs": [],
   "source": [
    "# load json\n",
    "with open('car_accident.json') as f:\n",
    "    test_dic = json.load(f)"
   ]
  },
  {
   "cell_type": "code",
   "execution_count": 21,
   "metadata": {},
   "outputs": [
    {
     "data": {
      "text/plain": [
       "5059"
      ]
     },
     "execution_count": 21,
     "metadata": {},
     "output_type": "execute_result"
    }
   ],
   "source": [
    "len(test_dic['results'])"
   ]
  },
  {
   "cell_type": "markdown",
   "metadata": {},
   "source": [
    "## 3. Convert the json to dataframe for easy reading and modeling"
   ]
  },
  {
   "cell_type": "code",
   "execution_count": 23,
   "metadata": {},
   "outputs": [],
   "source": [
    "a = test_dic['results']\n",
    "df = json_normalize(a)"
   ]
  },
  {
   "cell_type": "code",
   "execution_count": 24,
   "metadata": {},
   "outputs": [
    {
     "data": {
      "text/html": [
       "<div>\n",
       "<style scoped>\n",
       "    .dataframe tbody tr th:only-of-type {\n",
       "        vertical-align: middle;\n",
       "    }\n",
       "\n",
       "    .dataframe tbody tr th {\n",
       "        vertical-align: top;\n",
       "    }\n",
       "\n",
       "    .dataframe thead th {\n",
       "        text-align: right;\n",
       "    }\n",
       "</style>\n",
       "<table border=\"1\" class=\"dataframe\">\n",
       "  <thead>\n",
       "    <tr style=\"text-align: right;\">\n",
       "      <th></th>\n",
       "      <th>id</th>\n",
       "      <th>url</th>\n",
       "      <th>name</th>\n",
       "      <th>name_abbreviation</th>\n",
       "      <th>decision_date</th>\n",
       "      <th>docket_number</th>\n",
       "      <th>first_page</th>\n",
       "      <th>last_page</th>\n",
       "      <th>citations</th>\n",
       "      <th>cites_to</th>\n",
       "      <th>frontend_url</th>\n",
       "      <th>frontend_pdf_url</th>\n",
       "      <th>preview</th>\n",
       "      <th>last_updated</th>\n",
       "      <th>volume.url</th>\n",
       "      <th>volume.volume_number</th>\n",
       "      <th>volume.barcode</th>\n",
       "      <th>reporter.url</th>\n",
       "      <th>reporter.full_name</th>\n",
       "      <th>reporter.id</th>\n",
       "      <th>court.url</th>\n",
       "      <th>court.name_abbreviation</th>\n",
       "      <th>court.slug</th>\n",
       "      <th>court.id</th>\n",
       "      <th>court.name</th>\n",
       "      <th>jurisdiction.id</th>\n",
       "      <th>jurisdiction.name_long</th>\n",
       "      <th>jurisdiction.url</th>\n",
       "      <th>jurisdiction.slug</th>\n",
       "      <th>jurisdiction.whitelisted</th>\n",
       "      <th>jurisdiction.name</th>\n",
       "      <th>analysis.word_count</th>\n",
       "      <th>analysis.sha256</th>\n",
       "      <th>analysis.ocr_confidence</th>\n",
       "      <th>analysis.char_count</th>\n",
       "      <th>analysis.pagerank.percentile</th>\n",
       "      <th>analysis.pagerank.raw</th>\n",
       "      <th>analysis.cardinality</th>\n",
       "      <th>analysis.simhash</th>\n",
       "      <th>casebody.status</th>\n",
       "      <th>casebody.data.head_matter</th>\n",
       "      <th>casebody.data.corrections</th>\n",
       "      <th>casebody.data.parties</th>\n",
       "      <th>casebody.data.attorneys</th>\n",
       "      <th>casebody.data.opinions</th>\n",
       "      <th>casebody.data.judges</th>\n",
       "      <th>casebody.data</th>\n",
       "    </tr>\n",
       "  </thead>\n",
       "  <tbody>\n",
       "    <tr>\n",
       "      <th>0</th>\n",
       "      <td>191031</td>\n",
       "      <td>https://api.case.law/v1/cases/191031/</td>\n",
       "      <td>JOSE D. MARQUEZ, Plaintiff and Appellant, v. E...</td>\n",
       "      <td>Marquez v. Enter. Rent-A-Car</td>\n",
       "      <td>1997-02-07</td>\n",
       "      <td>No. B096993</td>\n",
       "      <td>319</td>\n",
       "      <td>324</td>\n",
       "      <td>[{'type': 'official', 'cite': '53 Cal. App. 2d...</td>\n",
       "      <td>[{'cite': '278 Cal.Rptr. 533', 'category': 're...</td>\n",
       "      <td>https://cite.case.law/cal-app-2d/53/319/</td>\n",
       "      <td>https://cite.case.law/pdf/191031/Marquez%20v.%...</td>\n",
       "      <td>[ENTERPRISE RENT-A-&lt;em class='search_highlight...</td>\n",
       "      <td>2021-05-29T02:04:42.932697+00:00</td>\n",
       "      <td>https://api.case.law/v1/volumes/32044038629440/</td>\n",
       "      <td>53</td>\n",
       "      <td>32044038629440</td>\n",
       "      <td>https://api.case.law/v1/reporters/334/</td>\n",
       "      <td>California Appellate Reports, Fourth Series</td>\n",
       "      <td>334</td>\n",
       "      <td>https://api.case.law/v1/courts/cal-ct-app-1/</td>\n",
       "      <td>Cal. Ct. App.</td>\n",
       "      <td>cal-ct-app-1</td>\n",
       "      <td>8799</td>\n",
       "      <td>Court of Appeal of the State of California</td>\n",
       "      <td>30</td>\n",
       "      <td>California</td>\n",
       "      <td>https://api.case.law/v1/jurisdictions/cal/</td>\n",
       "      <td>cal</td>\n",
       "      <td>False</td>\n",
       "      <td>Cal.</td>\n",
       "      <td>1250</td>\n",
       "      <td>eb8ce1c060350dd6268e04352a9dd236022cd56963c627...</td>\n",
       "      <td>0.924</td>\n",
       "      <td>7671</td>\n",
       "      <td>0.007619</td>\n",
       "      <td>4.076307e-08</td>\n",
       "      <td>463</td>\n",
       "      <td>1:186b8601d0e32a46</td>\n",
       "      <td>ok</td>\n",
       "      <td>[No. B096993.\\nSecond Dist., Div. Four.\\nFeb. ...</td>\n",
       "      <td></td>\n",
       "      <td>[JOSE D. MARQUEZ, Plaintiff and Appellant, v. ...</td>\n",
       "      <td>[]</td>\n",
       "      <td>[{'author': 'EPSTEIN, Acting P. J.', 'text': '...</td>\n",
       "      <td>[]</td>\n",
       "      <td>NaN</td>\n",
       "    </tr>\n",
       "    <tr>\n",
       "      <th>1</th>\n",
       "      <td>6053508</td>\n",
       "      <td>https://api.case.law/v1/cases/6053508/</td>\n",
       "      <td>JESUS FLORES et al., Plaintiffs and Appellants...</td>\n",
       "      <td>Flores v. Enterprise Rent-A-Car Co.</td>\n",
       "      <td>2010-09-28</td>\n",
       "      <td>No. B215105</td>\n",
       "      <td>1055</td>\n",
       "      <td>1073</td>\n",
       "      <td>[{'type': 'official', 'cite': '188 Cal. App. 4...</td>\n",
       "      <td>[{'cite': '134 P. 704', 'category': 'reporters...</td>\n",
       "      <td>https://cite.case.law/cal-app-4th/188/1055/</td>\n",
       "      <td>https://cite.case.law/pdf/6053508/Flores%20v.%...</td>\n",
       "      <td>[ENTERPRISE RENT-A-&lt;em class='search_highlight...</td>\n",
       "      <td>2021-05-28T19:25:40.401243+00:00</td>\n",
       "      <td>https://api.case.law/v1/volumes/32044132278433/</td>\n",
       "      <td>188</td>\n",
       "      <td>32044132278433</td>\n",
       "      <td>https://api.case.law/v1/reporters/334/</td>\n",
       "      <td>California Appellate Reports, Fourth Series</td>\n",
       "      <td>334</td>\n",
       "      <td>https://api.case.law/v1/courts/cal-ct-app-1/</td>\n",
       "      <td>Cal. Ct. App.</td>\n",
       "      <td>cal-ct-app-1</td>\n",
       "      <td>8799</td>\n",
       "      <td>Court of Appeal of the State of California</td>\n",
       "      <td>30</td>\n",
       "      <td>California</td>\n",
       "      <td>https://api.case.law/v1/jurisdictions/cal/</td>\n",
       "      <td>cal</td>\n",
       "      <td>False</td>\n",
       "      <td>Cal.</td>\n",
       "      <td>6458</td>\n",
       "      <td>df2b4896d8fe589f5f27f598b8d438d47d4fe1a14374f1...</td>\n",
       "      <td>0.908</td>\n",
       "      <td>40450</td>\n",
       "      <td>0.175458</td>\n",
       "      <td>4.076307e-08</td>\n",
       "      <td>1285</td>\n",
       "      <td>1:29c8571457759ad9</td>\n",
       "      <td>ok</td>\n",
       "      <td>[No. B215105.\\nSecond Dist., Div. Four.\\nSept....</td>\n",
       "      <td></td>\n",
       "      <td>[JESUS FLORES et al., Plaintiffs and Appellant...</td>\n",
       "      <td>[Counsel, Steven B. Stevens for Plaintiffs and...</td>\n",
       "      <td>[{'author': 'WILLHITE, Acting P. J.', 'text': ...</td>\n",
       "      <td>[]</td>\n",
       "      <td>NaN</td>\n",
       "    </tr>\n",
       "  </tbody>\n",
       "</table>\n",
       "</div>"
      ],
      "text/plain": [
       "        id                                     url  \\\n",
       "0   191031   https://api.case.law/v1/cases/191031/   \n",
       "1  6053508  https://api.case.law/v1/cases/6053508/   \n",
       "\n",
       "                                                name  \\\n",
       "0  JOSE D. MARQUEZ, Plaintiff and Appellant, v. E...   \n",
       "1  JESUS FLORES et al., Plaintiffs and Appellants...   \n",
       "\n",
       "                     name_abbreviation decision_date docket_number first_page  \\\n",
       "0         Marquez v. Enter. Rent-A-Car    1997-02-07   No. B096993        319   \n",
       "1  Flores v. Enterprise Rent-A-Car Co.    2010-09-28   No. B215105       1055   \n",
       "\n",
       "  last_page                                          citations  \\\n",
       "0       324  [{'type': 'official', 'cite': '53 Cal. App. 2d...   \n",
       "1      1073  [{'type': 'official', 'cite': '188 Cal. App. 4...   \n",
       "\n",
       "                                            cites_to  \\\n",
       "0  [{'cite': '278 Cal.Rptr. 533', 'category': 're...   \n",
       "1  [{'cite': '134 P. 704', 'category': 'reporters...   \n",
       "\n",
       "                                  frontend_url  \\\n",
       "0     https://cite.case.law/cal-app-2d/53/319/   \n",
       "1  https://cite.case.law/cal-app-4th/188/1055/   \n",
       "\n",
       "                                    frontend_pdf_url  \\\n",
       "0  https://cite.case.law/pdf/191031/Marquez%20v.%...   \n",
       "1  https://cite.case.law/pdf/6053508/Flores%20v.%...   \n",
       "\n",
       "                                             preview  \\\n",
       "0  [ENTERPRISE RENT-A-<em class='search_highlight...   \n",
       "1  [ENTERPRISE RENT-A-<em class='search_highlight...   \n",
       "\n",
       "                       last_updated  \\\n",
       "0  2021-05-29T02:04:42.932697+00:00   \n",
       "1  2021-05-28T19:25:40.401243+00:00   \n",
       "\n",
       "                                        volume.url volume.volume_number  \\\n",
       "0  https://api.case.law/v1/volumes/32044038629440/                   53   \n",
       "1  https://api.case.law/v1/volumes/32044132278433/                  188   \n",
       "\n",
       "   volume.barcode                            reporter.url  \\\n",
       "0  32044038629440  https://api.case.law/v1/reporters/334/   \n",
       "1  32044132278433  https://api.case.law/v1/reporters/334/   \n",
       "\n",
       "                            reporter.full_name  reporter.id  \\\n",
       "0  California Appellate Reports, Fourth Series          334   \n",
       "1  California Appellate Reports, Fourth Series          334   \n",
       "\n",
       "                                      court.url court.name_abbreviation  \\\n",
       "0  https://api.case.law/v1/courts/cal-ct-app-1/           Cal. Ct. App.   \n",
       "1  https://api.case.law/v1/courts/cal-ct-app-1/           Cal. Ct. App.   \n",
       "\n",
       "     court.slug  court.id                                  court.name  \\\n",
       "0  cal-ct-app-1      8799  Court of Appeal of the State of California   \n",
       "1  cal-ct-app-1      8799  Court of Appeal of the State of California   \n",
       "\n",
       "   jurisdiction.id jurisdiction.name_long  \\\n",
       "0               30             California   \n",
       "1               30             California   \n",
       "\n",
       "                             jurisdiction.url jurisdiction.slug  \\\n",
       "0  https://api.case.law/v1/jurisdictions/cal/               cal   \n",
       "1  https://api.case.law/v1/jurisdictions/cal/               cal   \n",
       "\n",
       "   jurisdiction.whitelisted jurisdiction.name  analysis.word_count  \\\n",
       "0                     False              Cal.                 1250   \n",
       "1                     False              Cal.                 6458   \n",
       "\n",
       "                                     analysis.sha256  analysis.ocr_confidence  \\\n",
       "0  eb8ce1c060350dd6268e04352a9dd236022cd56963c627...                    0.924   \n",
       "1  df2b4896d8fe589f5f27f598b8d438d47d4fe1a14374f1...                    0.908   \n",
       "\n",
       "   analysis.char_count  analysis.pagerank.percentile  analysis.pagerank.raw  \\\n",
       "0                 7671                      0.007619           4.076307e-08   \n",
       "1                40450                      0.175458           4.076307e-08   \n",
       "\n",
       "   analysis.cardinality    analysis.simhash casebody.status  \\\n",
       "0                   463  1:186b8601d0e32a46              ok   \n",
       "1                  1285  1:29c8571457759ad9              ok   \n",
       "\n",
       "                           casebody.data.head_matter  \\\n",
       "0  [No. B096993.\\nSecond Dist., Div. Four.\\nFeb. ...   \n",
       "1  [No. B215105.\\nSecond Dist., Div. Four.\\nSept....   \n",
       "\n",
       "  casebody.data.corrections  \\\n",
       "0                             \n",
       "1                             \n",
       "\n",
       "                               casebody.data.parties  \\\n",
       "0  [JOSE D. MARQUEZ, Plaintiff and Appellant, v. ...   \n",
       "1  [JESUS FLORES et al., Plaintiffs and Appellant...   \n",
       "\n",
       "                             casebody.data.attorneys  \\\n",
       "0                                                 []   \n",
       "1  [Counsel, Steven B. Stevens for Plaintiffs and...   \n",
       "\n",
       "                              casebody.data.opinions casebody.data.judges  \\\n",
       "0  [{'author': 'EPSTEIN, Acting P. J.', 'text': '...                   []   \n",
       "1  [{'author': 'WILLHITE, Acting P. J.', 'text': ...                   []   \n",
       "\n",
       "   casebody.data  \n",
       "0            NaN  \n",
       "1            NaN  "
      ]
     },
     "execution_count": 24,
     "metadata": {},
     "output_type": "execute_result"
    }
   ],
   "source": [
    "df.head(2)"
   ]
  },
  {
   "cell_type": "markdown",
   "metadata": {},
   "source": [
    "## 4. Look at the full text"
   ]
  },
  {
   "cell_type": "code",
   "execution_count": 26,
   "metadata": {},
   "outputs": [
    {
     "data": {
      "text/plain": [
       "'Opinion\\nEPSTEIN, Acting P. J.\\nWe consider an appeal from a grant of summary judgment for respondent Enterprise Rent-A-Car. Appellant sued respondent and others for injuries stemming from a 1991 automobile accident with Michael Melcher. At the time of the accident, Melcher was driving a car rented from Enterprise by Martin Sanchez. In granting the summary judgment, the court found that Enterprise’s rental agreement did not, either expressly or impliedly, permit Melcher to drive the vehicle. We affirm.\\nFactual and Procedural Summary\\nIn 1991, Martin Sanchez rented a car from respondent Enterprise Rent-A-Car. His rental agreement provided a space for Sanchez to request permission from respondent to allow other people to drive the car. At the time of his rental, someone had typed the words “no others” into this space. Sanchez initialed this part of the agreement and signed the completed form.\\nOn June 8, 1991, the rental car, driven by Michael Melcher, was involved in an accident with appellant Jose D. Marquez. Appellant filed a complaint against respondent, Sanchez, and Melcher for personal injuries arising from the accident. After answering the complaint, respondent moved for summary judgment, alleging that Melcher was not a permissive user of the vehicle and therefore Enterprise was not liable for the accident. The court granted the motion. Appellant filed a timely notice of appeal.\\nDiscussion\\n“Summary judgment is proper where the evidence in support of the moving party is sufficient to sustain a judgment in his favor and there are no triable issues of fact to be determined. [Citations.]. . . . Where, as here, defendant is the moving party, he must either negate a necessary element of plaintiff’s case or establish a complete defense. [Citation.]. . . . [Citation.] The reviewing court conducts a de novo examination to see whether the moving party is entitled to summary judgment as a matter of law or whether there are any genuine issues of material fact. [Citation.]” (Enterprise Leasing Corp. v. Shugart Corp. (1991) 231 Cal.App.3d 737, 744 [282 Cal.Rptr. 620].) The court is not to decide the merits of the factual issues themselves. (Molko v. Holy Spirit Assn. (1988) 46 Cal.3d 1092, 1107 [252 Cal.Rptr. 122, 762 P.2d 46].)\\nAppellant argues that Enterprise is liable for Melcher’s accident on the basis of Vehicle Code section 17150. That statute provides: “Every owner of a motor vehicle is liable and responsible for death or injury to person or property resulting from a negligent or wrongful act or omission in the operation of the motor vehicle, in the business of the owner or otherwise, by any person using or operating the same with the permission, express or implied, of the owner.” Under this section, “permissive use” means use that is expressly or impliedly within the scope of permission as to time, place and purpose, as granted by the owner. (Hartford. Accident & Indemnity Co. v. Abdullah (1979) 94 Cal.App.3d 81, 88 [156 Cal.Rptr. 254].) The question of permission cannot be left to speculation or assumed. Appellant must affirmatively show that the vehicle’s owner permitted the driver to use the vehicle. (See Elkinton v. Cal. State Auto. Assn. (1959) 173 Cal.App.2d 338, 342 [343 P.2d 396].)\\nThe case at hand is controlled by a contract: the rental agreement. In this, it is similar to Coulston v. Cooper (1966) 245 Cal.App.2d 866 [54 Cal.Rptr. 302]. In Coulson, a car rental agreement expressly stated: “ ‘Unless endorsed below, it is agreed that the use of said vehicle is expressly limited to use in Arizona.’ ” (Id. at pp. 869-870.) The defendant renters did not request such an endorsement and the endorsement box on the agreement was left blank. Looking at the face of the agreement, the court found that the defendants had not asked for permission to drive the car in California. They did not, therefore, have the company’s express or implied permission to use the vehicle outside Arizona. (Id. at p. 870.) Consequently, the act of driving the vehicle in California was not a permissive use.\\nAppellant cites Financial Indem. Co. v. Hertz Corp. (1964) 226 Cal.App.2d 689 [38 Cal.Rptr. 249] for the proposition that whether a nonrenter may use a rental car is always an issue of fact. In Financial Indem., Hertz rented a car under an agreement which stated that no one but the renter could use the car, except a limited number of other persons under certain conditions. (226 Cal.App.2d at p. 691.) This limiting clause was sandwiched between a number of others and not positioned so that a renter would readily see it. In fact, the renter did not read the clause and was not aware that he was not authorized to allow others to drive the car. (Id. at pp. 691-692, 695.) The court found that, given these facts, Hertz could not reasonably have believed that its restriction would be carried out. (Id. at p. 692.) Hertz was therefore deemed to have impliedly authorized the renter’s friend to drive the car. (Id. at p. 697.)\\nThe facts in our case are materially different, and are more analogous to Coulston v. Cooper, supra, 245 Cal.App.2d 866. Respondent’s standard rental agreement has a place where a renter may request permission for another to drive the car. Unlike the clause in Financial Indem., the prohibition in this agreement of third party drivers was readily apparent to the renter. Sanchez informed respondent that he did not want permission for any others to drive the car because “no others” would be driving. He initialed this restriction. Given these facts, the court found that “[t]he contract does establish and speak for itself clearly. The language on the face of it ‘and no other’ and the meaning of that has a clear interpretation that the person does not have permission to let anyone else drive the car. There is no express or implied permission for anyone else to operate the motor vehicle and the driving by Mr. Melcher . . . .” By allowing Melcher to drive the car, Sanchez acted outside the scope of permission given to him by Enterprise.\\nFinancial Indem., and other cases in which courts found implied permission, rest heavily on the circumstances surrounding the use of the vehicles. (Sandoval v. Mercury Ins. Group (1991) 229 Cal.App.3d 1, 8 [278 Cal.Rptr. 533].) Often, the general relationship between the owner and driver is of paramount importance. Some relationships, such as spousal, parent/child, or principle/agent, create a strong inference of implied permission. (Elkinton v. Cal. State Auto. Assn., supra, 173 Cal.App.2d at p. 344.) They are different from the situation before us. Respondent had no relationship with Sanchez other than as vehicle renter. It made clear its restrictions on Sanchez’s use of the vehicle. Because it had no reason to expect that Melcher, or anyone other than Sanchez, would drive the vehicle, it did not give implied permission. (See Sandoval v. Mercury Ins. Group, supra, 229 Cal.App.3d at p. 12.) Respondent was not liable for Melcher’s accident. The trial court correctly granted summary judgment.\\nDisposition\\nThe judgment is affirmed. Respondent is to have its costs on appeal.\\nHastings, J., and Aranda, J., concurred.\\nAll statutory references are to the Vehicle Code unless otherwise stated.\\nJudge of the Municipal Court for the South Bay Judicial District, assigned by the Chief Justice pursuant to article VI, section 6 of the California Constitution.'"
      ]
     },
     "execution_count": 26,
     "metadata": {},
     "output_type": "execute_result"
    }
   ],
   "source": [
    "# this is the full text - keep! important\n",
    "df['casebody.data.opinions'][0][0]['text']"
   ]
  },
  {
   "cell_type": "code",
   "execution_count": 27,
   "metadata": {},
   "outputs": [
    {
     "data": {
      "text/plain": [
       "[\"ENTERPRISE RENT-A-<em class='search_highlight'>CAR</em> COMPANY et al., Defendants and Respondents.\\nCounsel\\nSteven B.\",\n",
       " \"Hurst for Defendant and Respondent Enterprise Rent-A-<em class='search_highlight'>Car</em> Company.\\nSelman Breitman, Paul E.\",\n",
       " \"Capabianco for Defendant and Respondent Enterprise Rent-A-<em class='search_highlight'>Car</em> Company of Los Angeles.\",\n",
       " \"driven by Dederer at the time of the <em class='search_highlight'>accident</em>.\",\n",
       " \"The <em class='search_highlight'>accident</em> occurred when Dederer, driving the vehicle, looked down to adjust his stereo and the vehicle\",\n",
       " \"Dederer was not under the influence of alcohol at the time of the <em class='search_highlight'>accident</em>, and was not charged with\",\n",
       " \"Four days after renting the vehicle, the renter was involved in an <em class='search_highlight'>accident</em> in which several persons\",\n",
       " \"<em class='search_highlight'>accident</em>.\"]"
      ]
     },
     "execution_count": 27,
     "metadata": {},
     "output_type": "execute_result"
    }
   ],
   "source": [
    "df['preview'][1]"
   ]
  },
  {
   "cell_type": "code",
   "execution_count": null,
   "metadata": {},
   "outputs": [],
   "source": []
  },
  {
   "cell_type": "code",
   "execution_count": 22,
   "metadata": {},
   "outputs": [
    {
     "data": {
      "text/plain": [
       "\"\\ntoken_id = 'Token f643c4cfb329a249febbecca90efa2736acf39ce'\\nresponse = requests.get('https://api.case.law/v1/cases/?page_size=10&search=car+accident&full_case=true&jurisdiction=cal&decision_date_min=1950-01-01&decision_date_max=2020-12-31&body_format=text&ordering=relevance',\\n                       headers={'Authorization': token_id}\\n                       )\\n\""
      ]
     },
     "execution_count": 22,
     "metadata": {},
     "output_type": "execute_result"
    }
   ],
   "source": [
    "# 10 example - car accident, 1950 - 2020, ca, 10 cases\n",
    "'''\n",
    "token_id = 'Token f643c4cfb329a249febbecca90efa2736acf39ce'\n",
    "response = requests.get('https://api.case.law/v1/cases/?\\\n",
    "page_size=10&search=car+accident&full_case=true&jurisdiction=cal&\\\n",
    "decision_date_min=1950-01-01&decision_date_max=2020-12-31&\\\n",
    "body_format=text&ordering=relevance',\n",
    "                       headers={'Authorization': token_id}\n",
    "                       )\n",
    "'''"
   ]
  }
 ],
 "metadata": {
  "kernelspec": {
   "display_name": "Python 3",
   "language": "python",
   "name": "python3"
  },
  "language_info": {
   "codemirror_mode": {
    "name": "ipython",
    "version": 3
   },
   "file_extension": ".py",
   "mimetype": "text/x-python",
   "name": "python",
   "nbconvert_exporter": "python",
   "pygments_lexer": "ipython3",
   "version": "3.7.7"
  }
 },
 "nbformat": 4,
 "nbformat_minor": 4
}
